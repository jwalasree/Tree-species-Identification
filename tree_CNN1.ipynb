{
  "cells": [
    {
      "cell_type": "markdown",
      "source": [],
      "metadata": {
        "id": "mZ-_dRSGeX4B"
      }
    },
    {
      "cell_type": "code",
      "execution_count": 5,
      "metadata": {
        "colab": {
          "base_uri": "https://localhost:8080/"
        },
        "id": "w_HLBUKhUARH",
        "outputId": "a290c231-0576-4992-f3ba-2df9ee723ff3"
      },
      "outputs": [
        {
          "output_type": "stream",
          "name": "stdout",
          "text": [
            "Cloning into 'Tree-species-Identification'...\n",
            "remote: Enumerating objects: 1632, done.\u001b[K\n",
            "remote: Total 1632 (delta 0), reused 0 (delta 0), pack-reused 1632 (from 2)\u001b[K\n",
            "Receiving objects: 100% (1632/1632), 72.82 MiB | 37.43 MiB/s, done.\n",
            "Resolving deltas: 100% (3/3), done.\n"
          ]
        }
      ],
      "source": [
        "!git clone https://github.com/jwalasree/Tree-species-Identification.git"
      ]
    },
    {
      "cell_type": "code",
      "execution_count": 7,
      "metadata": {
        "colab": {
          "base_uri": "https://localhost:8080/"
        },
        "id": "AIVeoK8SKlud",
        "outputId": "89256eb4-6829-4894-f18c-6a023c816737"
      },
      "outputs": [
        {
          "output_type": "stream",
          "name": "stdout",
          "text": [
            "Contents: ['5M_trees', 'streamlit_integrated.py', 'README.md', 'tree_CNN.ipynb', '.git', 'Tree_Species_Dataset', '5M_trees.ipynb']\n"
          ]
        }
      ],
      "source": [
        "import os\n",
        "\n",
        "repo_path = \"/content/Tree-species-Identification\"  # Adjust if cloned to a different name\n",
        "print(\"Contents:\", os.listdir(repo_path))\n"
      ]
    },
    {
      "cell_type": "code",
      "execution_count": 8,
      "metadata": {
        "colab": {
          "base_uri": "https://localhost:8080/"
        },
        "id": "Egd3Sg_JLDUY",
        "outputId": "ee7d065b-91b6-4a49-e232-b532403b5308"
      },
      "outputs": [
        {
          "output_type": "stream",
          "name": "stdout",
          "text": [
            "Number of classes: 7\n"
          ]
        }
      ],
      "source": [
        "class_dirs = os.listdir(repo_path)\n",
        "print(f\"Number of classes: {len(class_dirs)}\")\n"
      ]
    },
    {
      "cell_type": "code",
      "execution_count": 9,
      "metadata": {
        "colab": {
          "base_uri": "https://localhost:8080/"
        },
        "id": "Z6fKLdxvLXmg",
        "outputId": "c7af2be6-3931-4efc-c83b-c92e80fa6bf8"
      },
      "outputs": [
        {
          "output_type": "stream",
          "name": "stdout",
          "text": [
            "Total images: 106\n"
          ]
        }
      ],
      "source": [
        "import glob\n",
        "\n",
        "image_paths = []\n",
        "labels = []\n",
        "\n",
        "for class_name in os.listdir(repo_path):\n",
        "    class_folder = os.path.join(repo_path, class_name)\n",
        "    if os.path.isdir(class_folder):\n",
        "        for img_file in os.listdir(class_folder):\n",
        "            image_paths.append(os.path.join(class_folder, img_file))\n",
        "            labels.append(class_name)\n",
        "\n",
        "print(f\"Total images: {len(image_paths)}\")\n"
      ]
    },
    {
      "cell_type": "code",
      "execution_count": 11,
      "metadata": {
        "colab": {
          "base_uri": "https://localhost:8080/"
        },
        "id": "uGacPr8Md1D2",
        "outputId": "28976ef1-91cb-4971-94eb-73b1bc5f0dad"
      },
      "outputs": [
        {
          "output_type": "stream",
          "name": "stdout",
          "text": [
            "                      Image Count\n",
            "5M_trees                       65\n",
            ".git                            5\n",
            "Tree_Species_Dataset            0\n",
            "Shape: (3, 1)\n"
          ]
        }
      ],
      "source": [
        "import os\n",
        "import pandas as pd\n",
        "\n",
        "# Replace with your actual image dataset path\n",
        "repo_path = r\"/content/Tree-species-Identification\"\n",
        "\n",
        "# Get class folders\n",
        "class_dirs = [d for d in os.listdir(repo_path) if os.path.isdir(os.path.join(repo_path, d))]\n",
        "\n",
        "# Count files in each folder\n",
        "class_counts = {\n",
        "    cls: len([\n",
        "        f for f in os.listdir(os.path.join(repo_path, cls))\n",
        "        if os.path.isfile(os.path.join(repo_path, cls, f))\n",
        "    ])\n",
        "    for cls in class_dirs\n",
        "}\n",
        "\n",
        "# Build DataFrame\n",
        "class_counts_df = pd.DataFrame.from_dict(class_counts, orient='index', columns=['Image Count'])\n",
        "\n",
        "# Output\n",
        "print(class_counts_df.sort_values('Image Count', ascending=False).head())\n",
        "print(\"Shape:\", class_counts_df.shape)\n"
      ]
    },
    {
      "cell_type": "code",
      "execution_count": 12,
      "metadata": {
        "colab": {
          "base_uri": "https://localhost:8080/"
        },
        "id": "hiB7A6TNL0np",
        "outputId": "6322d623-70e3-47b8-c539-664f26ea5875"
      },
      "outputs": [
        {
          "output_type": "stream",
          "name": "stdout",
          "text": [
            "                      Image Count\n",
            "5M_trees                       65\n",
            "Tree_Species_Dataset           30\n",
            ".git                           11\n",
            "shape:  (3, 1)\n"
          ]
        }
      ],
      "source": [
        "\n",
        "import pandas as pd\n",
        "\n",
        "class_counts = {cls: len(os.listdir(os.path.join(repo_path, cls))) for cls in class_dirs}\n",
        "class_counts_df = pd.DataFrame.from_dict(class_counts, orient='index', columns=['Image Count'])\n",
        "print(class_counts_df.sort_values('Image Count', ascending=False).head())\n",
        "print(\"shape: \",class_counts_df.shape)\n"
      ]
    },
    {
      "cell_type": "code",
      "execution_count": 15,
      "metadata": {
        "id": "2fucq9x6MJVB"
      },
      "outputs": [],
      "source": [
        "import os\n",
        "import matplotlib.pyplot as plt\n",
        "from PIL import Image\n",
        "\n",
        "def show_sample_images(repo_path, class_dirs, n=5):\n",
        "    plt.figure(figsize=(15, 10))\n",
        "    for i, class_dir in enumerate(class_dirs[:n]):\n",
        "        folder_path = os.path.join(repo_path, class_dir)\n",
        "\n",
        "        # Filter only image files\n",
        "        files = [f for f in os.listdir(folder_path) if f.lower().endswith(('.png', '.jpg', '.jpeg'))]\n",
        "\n",
        "        if not files:\n",
        "            print(f\"No image files found in {folder_path}\")\n",
        "            continue\n",
        "\n",
        "        img_path = os.path.join(folder_path, files[0])\n",
        "        img = Image.open(img_path)\n",
        "\n",
        "        plt.subplot(1, n, i+1)\n",
        "        plt.imshow(img)\n",
        "        plt.title(class_dir)\n",
        "        plt.axis('off')\n",
        "\n",
        "    plt.show()\n"
      ]
    },
    {
      "cell_type": "code",
      "execution_count": 17,
      "metadata": {
        "colab": {
          "base_uri": "https://localhost:8080/",
          "height": 53
        },
        "id": "iBS0zLf4M4Gu",
        "outputId": "ea1dba3d-c2b8-46a0-f90d-b8fcc1125267"
      },
      "outputs": [
        {
          "output_type": "execute_result",
          "data": {
            "text/plain": [
              "Empty DataFrame\n",
              "Columns: [Width, Height]\n",
              "Index: []"
            ],
            "text/html": [
              "\n",
              "  <div id=\"df-bcf421dd-7c7f-46cd-88f6-475b2536c587\" class=\"colab-df-container\">\n",
              "    <div>\n",
              "<style scoped>\n",
              "    .dataframe tbody tr th:only-of-type {\n",
              "        vertical-align: middle;\n",
              "    }\n",
              "\n",
              "    .dataframe tbody tr th {\n",
              "        vertical-align: top;\n",
              "    }\n",
              "\n",
              "    .dataframe thead th {\n",
              "        text-align: right;\n",
              "    }\n",
              "</style>\n",
              "<table border=\"1\" class=\"dataframe\">\n",
              "  <thead>\n",
              "    <tr style=\"text-align: right;\">\n",
              "      <th></th>\n",
              "      <th>Width</th>\n",
              "      <th>Height</th>\n",
              "    </tr>\n",
              "  </thead>\n",
              "  <tbody>\n",
              "  </tbody>\n",
              "</table>\n",
              "</div>\n",
              "    <div class=\"colab-df-buttons\">\n",
              "\n",
              "  <div class=\"colab-df-container\">\n",
              "    <button class=\"colab-df-convert\" onclick=\"convertToInteractive('df-bcf421dd-7c7f-46cd-88f6-475b2536c587')\"\n",
              "            title=\"Convert this dataframe to an interactive table.\"\n",
              "            style=\"display:none;\">\n",
              "\n",
              "  <svg xmlns=\"http://www.w3.org/2000/svg\" height=\"24px\" viewBox=\"0 -960 960 960\">\n",
              "    <path d=\"M120-120v-720h720v720H120Zm60-500h600v-160H180v160Zm220 220h160v-160H400v160Zm0 220h160v-160H400v160ZM180-400h160v-160H180v160Zm440 0h160v-160H620v160ZM180-180h160v-160H180v160Zm440 0h160v-160H620v160Z\"/>\n",
              "  </svg>\n",
              "    </button>\n",
              "\n",
              "  <style>\n",
              "    .colab-df-container {\n",
              "      display:flex;\n",
              "      gap: 12px;\n",
              "    }\n",
              "\n",
              "    .colab-df-convert {\n",
              "      background-color: #E8F0FE;\n",
              "      border: none;\n",
              "      border-radius: 50%;\n",
              "      cursor: pointer;\n",
              "      display: none;\n",
              "      fill: #1967D2;\n",
              "      height: 32px;\n",
              "      padding: 0 0 0 0;\n",
              "      width: 32px;\n",
              "    }\n",
              "\n",
              "    .colab-df-convert:hover {\n",
              "      background-color: #E2EBFA;\n",
              "      box-shadow: 0px 1px 2px rgba(60, 64, 67, 0.3), 0px 1px 3px 1px rgba(60, 64, 67, 0.15);\n",
              "      fill: #174EA6;\n",
              "    }\n",
              "\n",
              "    .colab-df-buttons div {\n",
              "      margin-bottom: 4px;\n",
              "    }\n",
              "\n",
              "    [theme=dark] .colab-df-convert {\n",
              "      background-color: #3B4455;\n",
              "      fill: #D2E3FC;\n",
              "    }\n",
              "\n",
              "    [theme=dark] .colab-df-convert:hover {\n",
              "      background-color: #434B5C;\n",
              "      box-shadow: 0px 1px 3px 1px rgba(0, 0, 0, 0.15);\n",
              "      filter: drop-shadow(0px 1px 2px rgba(0, 0, 0, 0.3));\n",
              "      fill: #FFFFFF;\n",
              "    }\n",
              "  </style>\n",
              "\n",
              "    <script>\n",
              "      const buttonEl =\n",
              "        document.querySelector('#df-bcf421dd-7c7f-46cd-88f6-475b2536c587 button.colab-df-convert');\n",
              "      buttonEl.style.display =\n",
              "        google.colab.kernel.accessAllowed ? 'block' : 'none';\n",
              "\n",
              "      async function convertToInteractive(key) {\n",
              "        const element = document.querySelector('#df-bcf421dd-7c7f-46cd-88f6-475b2536c587');\n",
              "        const dataTable =\n",
              "          await google.colab.kernel.invokeFunction('convertToInteractive',\n",
              "                                                    [key], {});\n",
              "        if (!dataTable) return;\n",
              "\n",
              "        const docLinkHtml = 'Like what you see? Visit the ' +\n",
              "          '<a target=\"_blank\" href=https://colab.research.google.com/notebooks/data_table.ipynb>data table notebook</a>'\n",
              "          + ' to learn more about interactive tables.';\n",
              "        element.innerHTML = '';\n",
              "        dataTable['output_type'] = 'display_data';\n",
              "        await google.colab.output.renderOutput(dataTable, element);\n",
              "        const docLink = document.createElement('div');\n",
              "        docLink.innerHTML = docLinkHtml;\n",
              "        element.appendChild(docLink);\n",
              "      }\n",
              "    </script>\n",
              "  </div>\n",
              "\n",
              "\n",
              "    </div>\n",
              "  </div>\n"
            ],
            "application/vnd.google.colaboratory.intrinsic+json": {
              "type": "dataframe",
              "variable_name": "shapes_df",
              "repr_error": "Out of range float values are not JSON compliant: nan"
            }
          },
          "metadata": {},
          "execution_count": 17
        }
      ],
      "source": [
        "import os\n",
        "from PIL import Image\n",
        "import pandas as pd\n",
        "\n",
        "image_shapes = []\n",
        "\n",
        "# Loop through each class directory\n",
        "for class_dir in class_dirs:\n",
        "    class_path = os.path.join(repo_path, class_dir)\n",
        "\n",
        "    # Filter only image files (by extension)\n",
        "    image_files = [f for f in os.listdir(class_path) if f.lower().endswith(('.png', '.jpg', '.jpeg'))]\n",
        "\n",
        "    for img_file in image_files:\n",
        "        img_path = os.path.join(class_path, img_file)\n",
        "        try:\n",
        "            img = Image.open(img_path)\n",
        "            image_shapes.append(img.size)\n",
        "        except Exception as e:\n",
        "            print(f\"Skipping file {img_path} due to error: {e}\")\n",
        "\n",
        "# Create DataFrame\n",
        "shapes_df = pd.DataFrame(image_shapes, columns=[\"Width\", \"Height\"])\n",
        "shapes_df.head()"
      ]
    },
    {
      "cell_type": "code",
      "execution_count": 18,
      "metadata": {
        "colab": {
          "base_uri": "https://localhost:8080/"
        },
        "id": "zWQFf0u9NEM-",
        "outputId": "6d852eb0-008a-4c6a-a6e6-daf3a74f4be3"
      },
      "outputs": [
        {
          "output_type": "stream",
          "name": "stdout",
          "text": [
            "       Width Height\n",
            "count      0      0\n",
            "unique     0      0\n",
            "top      NaN    NaN\n",
            "freq     NaN    NaN\n"
          ]
        }
      ],
      "source": [
        "print(shapes_df.describe())\n"
      ]
    },
    {
      "cell_type": "code",
      "execution_count": 22,
      "metadata": {
        "colab": {
          "base_uri": "https://localhost:8080/"
        },
        "id": "0e3JPGBGNQ-R",
        "outputId": "185ad39d-6b21-4c4e-c6af-e4f5d701562d"
      },
      "outputs": [
        {
          "output_type": "stream",
          "name": "stdout",
          "text": [
            "Duplicate image sets found: 0\n"
          ]
        }
      ],
      "source": [
        "import os\n",
        "import hashlib\n",
        "from collections import defaultdict\n",
        "\n",
        "hashes = defaultdict(list)\n",
        "\n",
        "# Allowed image extensions\n",
        "valid_exts = ('.png', '.jpg', '.jpeg')\n",
        "\n",
        "for class_dir in class_dirs:\n",
        "    class_path = os.path.join(repo_path, class_dir)\n",
        "\n",
        "    for img_file in os.listdir(class_path):\n",
        "        if not img_file.lower().endswith(valid_exts):\n",
        "            continue  # Skip non-image files\n",
        "\n",
        "        img_path = os.path.join(class_path, img_file)\n",
        "        try:\n",
        "            with open(img_path, 'rb') as f:\n",
        "                file_hash = hashlib.md5(f.read()).hexdigest()\n",
        "                hashes[file_hash].append(img_path)\n",
        "        except Exception as e:\n",
        "            print(f\"Error reading {img_path}: {e}\")\n",
        "\n",
        "# Filter duplicates\n",
        "duplicates = {h: files for h, files in hashes.items() if len(files) > 1}\n",
        "\n",
        "print(\"Duplicate image sets found:\", len(duplicates))\n",
        "\n",
        "# Optional: Print first few duplicate sets\n",
        "for i, (h, files) in enumerate(duplicates.items()):\n",
        "    print(f\"\\nDuplicate set {i+1}:\")\n",
        "    for f in files:\n",
        "        print(f)\n",
        "    if i >= 2:  # Show only first 3 sets\n",
        "        break\n"
      ]
    },
    {
      "cell_type": "code",
      "execution_count": 23,
      "metadata": {
        "colab": {
          "base_uri": "https://localhost:8080/"
        },
        "id": "Z_UHi_IuNggv",
        "outputId": "304976b3-ee1d-4791-b4ab-6b0e5c1de725"
      },
      "outputs": [
        {
          "output_type": "stream",
          "name": "stdout",
          "text": [
            "Corrupted images: 106\n"
          ]
        }
      ],
      "source": [
        "corrupt_images = []\n",
        "\n",
        "for class_dir in class_dirs:\n",
        "    for img_file in os.listdir(os.path.join(repo_path, class_dir)):\n",
        "        img_path = os.path.join(repo_path, class_dir, img_file)\n",
        "        try:\n",
        "            img = Image.open(img_path)\n",
        "            img.verify()\n",
        "        except Exception as e:\n",
        "            corrupt_images.append(img_path)\n",
        "\n",
        "print(\"Corrupted images:\", len(corrupt_images))\n"
      ]
    },
    {
      "cell_type": "code",
      "execution_count": 24,
      "metadata": {
        "id": "OaZjMk5NNo66"
      },
      "outputs": [],
      "source": [
        "import matplotlib.pyplot as plt\n",
        "from PIL import Image\n",
        "\n",
        "def show_duplicate_sets(duplicates, sets_to_display=3):\n",
        "    shown = 0\n",
        "    for hash_val, dup_paths in duplicates.items():\n",
        "        if shown >= sets_to_display:\n",
        "            break\n",
        "        print(f\"Duplicate set {shown + 1}:\")\n",
        "        plt.figure(figsize=(15, 4))\n",
        "        for i, img_path in enumerate(dup_paths):\n",
        "            try:\n",
        "                img = Image.open(img_path)\n",
        "                plt.subplot(1, len(dup_paths), i+1)\n",
        "                plt.imshow(img)\n",
        "                plt.title(os.path.basename(img_path))\n",
        "                plt.axis('off')\n",
        "            except:\n",
        "                continue\n",
        "        plt.show()\n",
        "        shown += 1\n",
        "\n",
        "show_duplicate_sets(duplicates, sets_to_display=3)\n"
      ]
    },
    {
      "cell_type": "code",
      "execution_count": 25,
      "metadata": {
        "colab": {
          "base_uri": "https://localhost:8080/"
        },
        "id": "2lukYiaeON1J",
        "outputId": "b30b1a49-d0db-4640-a3ce-57f028973d66"
      },
      "outputs": [
        {
          "output_type": "stream",
          "name": "stdout",
          "text": [
            "✅ Removed 0 duplicate images.\n"
          ]
        }
      ],
      "source": [
        "import os\n",
        "\n",
        "removed_count = 0\n",
        "\n",
        "for dup_list in duplicates.values():\n",
        "    # Keep the first, delete rest\n",
        "    for img_path in dup_list[1:]:\n",
        "        try:\n",
        "            os.remove(img_path)\n",
        "            removed_count += 1\n",
        "        except Exception as e:\n",
        "            print(f\"Error deleting {img_path}: {e}\")\n",
        "\n",
        "print(f\"✅ Removed {removed_count} duplicate images.\")\n"
      ]
    },
    {
      "cell_type": "code",
      "execution_count": 27,
      "metadata": {
        "colab": {
          "base_uri": "https://localhost:8080/"
        },
        "id": "GQoWFuAnOZ-3",
        "outputId": "76eb2866-c25d-42b6-a137-2c288d0eb552"
      },
      "outputs": [
        {
          "output_type": "stream",
          "name": "stdout",
          "text": [
            "🔁 Duplicates remaining: 0\n"
          ]
        }
      ],
      "source": [
        "import os\n",
        "import hashlib\n",
        "from collections import defaultdict\n",
        "\n",
        "hashes = defaultdict(list)\n",
        "valid_exts = ('.jpg', '.jpeg', '.png')  # Add more if needed\n",
        "\n",
        "for class_dir in class_dirs:\n",
        "    class_path = os.path.join(repo_path, class_dir)\n",
        "\n",
        "    for img_file in os.listdir(class_path):\n",
        "        if not img_file.lower().endswith(valid_exts):\n",
        "            continue  # Skip non-image files\n",
        "\n",
        "        img_path = os.path.join(class_path, img_file)\n",
        "        try:\n",
        "            with open(img_path, 'rb') as f:\n",
        "                file_hash = hashlib.md5(f.read()).hexdigest()\n",
        "                hashes[file_hash].append(img_path)\n",
        "        except Exception as e:\n",
        "            print(f\"Error reading {img_path}: {e}\")\n",
        "\n",
        "# Filter only hashes with more than 1 image (duplicates)\n",
        "duplicates = {h: files for h, files in hashes.items() if len(files) > 1}\n",
        "\n",
        "print(\"🔁 Duplicates remaining:\", len(duplicates))\n"
      ]
    },
    {
      "cell_type": "code",
      "execution_count": 30,
      "metadata": {
        "colab": {
          "base_uri": "https://localhost:8080/"
        },
        "id": "qJjV-yQIOc-R",
        "outputId": "488e77b2-5bd2-4717-fc4d-d6e1d9a7e47a"
      },
      "outputs": [
        {
          "output_type": "stream",
          "name": "stdout",
          "text": [
            "Columns: RangeIndex(start=0, stop=0, step=1)\n",
            "❌ No valid image data found.\n"
          ]
        }
      ],
      "source": [
        "import os\n",
        "from PIL import Image\n",
        "import pandas as pd\n",
        "\n",
        "image_info = []\n",
        "valid_exts = ('.png', '.jpg', '.jpeg')  # Filter image files\n",
        "\n",
        "for class_dir in class_dirs:\n",
        "    class_path = os.path.join(repo_path, class_dir)\n",
        "    for img_file in os.listdir(class_path):\n",
        "        if not img_file.lower().endswith(valid_exts):\n",
        "            continue  # Skip non-images\n",
        "\n",
        "        img_path = os.path.join(class_path, img_file)\n",
        "        try:\n",
        "            with Image.open(img_path) as img:\n",
        "                width, height = img.size\n",
        "                image_info.append({\n",
        "                    'path': img_path,\n",
        "                    'width': width,\n",
        "                    'height': height,\n",
        "                    'class': class_dir\n",
        "                })\n",
        "        except Exception as e:\n",
        "            print(f\"⚠️ Skipping {img_path} due to error: {e}\")\n",
        "            continue\n",
        "\n",
        "# Now convert to DataFrame\n",
        "df_sizes = pd.DataFrame(image_info)\n",
        "\n",
        "# ✅ Confirm columns exist\n",
        "print(\"Columns:\", df_sizes.columns)\n",
        "\n",
        "# Define thresholds\n",
        "if not df_sizes.empty and 'width' in df_sizes.columns:\n",
        "    small_imgs = df_sizes[(df_sizes['width'] < 150) | (df_sizes['height'] < 150)]\n",
        "    large_imgs = df_sizes[(df_sizes['width'] > 1000) | (df_sizes['height'] > 2000)]\n",
        "\n",
        "    print(f\"🔻 Very small images: {len(small_imgs)}\")\n",
        "    print(f\"🔺 Very large images: {len(large_imgs)}\")\n",
        "else:\n",
        "    print(\"❌ No valid image data found.\")\n"
      ]
    },
    {
      "cell_type": "code",
      "execution_count": 32,
      "metadata": {
        "colab": {
          "base_uri": "https://localhost:8080/"
        },
        "id": "sr1ce3n5O4xb",
        "outputId": "9861f14c-47d0-4d79-8d88-d508bc39150d"
      },
      "outputs": [
        {
          "output_type": "stream",
          "name": "stdout",
          "text": [
            "🔻 Very small images: 0\n",
            "🔺 Very large images: 0\n",
            "⚠️ No images to show for: Very Small Images\n",
            "⚠️ No images to show for: Very Large Images\n"
          ]
        }
      ],
      "source": [
        "import os\n",
        "from PIL import Image\n",
        "import pandas as pd\n",
        "import matplotlib.pyplot as plt\n",
        "\n",
        "# Setup\n",
        "valid_exts = ('.png', '.jpg', '.jpeg')\n",
        "image_info = []\n",
        "\n",
        "# Step 1: Collect image info\n",
        "for class_dir in class_dirs:\n",
        "    class_path = os.path.join(repo_path, class_dir)\n",
        "    for img_file in os.listdir(class_path):\n",
        "        if not img_file.lower().endswith(valid_exts):\n",
        "            continue  # Skip non-images\n",
        "\n",
        "        img_path = os.path.join(class_path, img_file)\n",
        "        try:\n",
        "            with Image.open(img_path) as img:\n",
        "                width, height = img.size\n",
        "                image_info.append({\n",
        "                    'path': img_path,\n",
        "                    'width': width,\n",
        "                    'height': height,\n",
        "                    'class': class_dir\n",
        "                })\n",
        "        except Exception as e:\n",
        "            print(f\"⚠️ Skipping {img_path} due to error: {e}\")\n",
        "            continue\n",
        "\n",
        "# Step 2: Create DataFrame\n",
        "df_sizes = pd.DataFrame(image_info)\n",
        "\n",
        "# Step 3: Filter small & large images\n",
        "small_imgs = df_sizes[(df_sizes['width'] < 150) | (df_sizes['height'] < 150)] if not df_sizes.empty else pd.DataFrame()\n",
        "large_imgs = df_sizes[(df_sizes['width'] > 1000) | (df_sizes['height'] > 2000)] if not df_sizes.empty else pd.DataFrame()\n",
        "\n",
        "print(f\"🔻 Very small images: {len(small_imgs)}\")\n",
        "print(f\"🔺 Very large images: {len(large_imgs)}\")\n",
        "\n",
        "# Step 4: Define function to show image samples\n",
        "def show_images(df_subset, title, n=5):\n",
        "    if df_subset.empty:\n",
        "        print(f\"⚠️ No images to show for: {title}\")\n",
        "        return\n",
        "\n",
        "    plt.figure(figsize=(15, 3))\n",
        "    for i, (_, row) in enumerate(df_subset.head(n).iterrows()):\n",
        "        try:\n",
        "            img = Image.open(row['path'])\n",
        "            plt.subplot(1, n, i+1)\n",
        "            plt.imshow(img)\n",
        "            plt.title(f\"{row['width']}x{row['height']}\")\n",
        "            plt.axis('off')\n",
        "        except Exception as e:\n",
        "            print(f\"❌ Couldn't open image {row['path']}: {e}\")\n",
        "            continue\n",
        "    plt.suptitle(title)\n",
        "    plt.show()\n",
        "\n",
        "# Step 5: Show small & large images\n",
        "show_images(small_imgs, \"Very Small Images\")\n",
        "show_images(large_imgs, \"Very Large Images\")\n"
      ]
    },
    {
      "cell_type": "code",
      "execution_count": 34,
      "metadata": {
        "colab": {
          "base_uri": "https://localhost:8080/"
        },
        "id": "OSKKMxAwO8A3",
        "outputId": "82930c94-ffe2-434b-cd7e-843a2cdb64e1"
      },
      "outputs": [
        {
          "output_type": "stream",
          "name": "stdout",
          "text": [
            "✅ Columns in outliers DataFrame: []\n",
            "⚠️ Column 'path' not found in outliers DataFrame. No files were removed.\n"
          ]
        }
      ],
      "source": [
        "import os\n",
        "import pandas as pd\n",
        "\n",
        "# Combine small and large outliers\n",
        "outliers = pd.concat([small_imgs, large_imgs])\n",
        "\n",
        "# Debug: Check columns\n",
        "print(\"✅ Columns in outliers DataFrame:\", outliers.columns.tolist())\n",
        "\n",
        "# Remove only if 'path' column exists\n",
        "if 'path' in outliers.columns:\n",
        "    removed_count = 0\n",
        "\n",
        "    for path in outliers['path']:\n",
        "        try:\n",
        "            os.remove(path)\n",
        "            removed_count += 1\n",
        "        except Exception as e:\n",
        "            print(f\"❌ Failed to remove {path}: {e}\")\n",
        "\n",
        "    print(f\"🗑️ Successfully removed {removed_count} outlier images.\")\n",
        "else:\n",
        "    print(\"⚠️ Column 'path' not found in outliers DataFrame. No files were removed.\")\n"
      ]
    },
    {
      "cell_type": "code",
      "execution_count": 36,
      "metadata": {
        "colab": {
          "base_uri": "https://localhost:8080/"
        },
        "id": "sT18nP1yPkSM",
        "outputId": "901ee4d9-2380-4d9c-cc69-41ba79472d7c"
      },
      "outputs": [
        {
          "output_type": "stream",
          "name": "stdout",
          "text": [
            "📊 Columns in DataFrame: []\n",
            "🧾 First few rows:\n",
            "Empty DataFrame\n",
            "Columns: []\n",
            "Index: []\n",
            "❌ 'width' and 'height' columns not found in df_sizes.\n"
          ]
        }
      ],
      "source": [
        "import os\n",
        "from PIL import Image\n",
        "import pandas as pd\n",
        "\n",
        "# Recalculate sizes with filtering\n",
        "image_info = []\n",
        "valid_exts = ('.png', '.jpg', '.jpeg')\n",
        "\n",
        "for class_dir in class_dirs:\n",
        "    class_path = os.path.join(repo_path, class_dir)\n",
        "    for img_file in os.listdir(class_path):\n",
        "        if not img_file.lower().endswith(valid_exts):\n",
        "            continue  # Skip non-images\n",
        "\n",
        "        img_path = os.path.join(class_path, img_file)\n",
        "        try:\n",
        "            with Image.open(img_path) as img:\n",
        "                width, height = img.size\n",
        "                image_info.append({\n",
        "                    'path': img_path,\n",
        "                    'width': width,\n",
        "                    'height': height,\n",
        "                    'class': class_dir\n",
        "                })\n",
        "        except Exception as e:\n",
        "            print(f\"⚠️ Skipping {img_path}: {e}\")\n",
        "            continue\n",
        "\n",
        "# Create DataFrame\n",
        "df_sizes = pd.DataFrame(image_info)\n",
        "\n",
        "# Debug print\n",
        "print(\"📊 Columns in DataFrame:\", df_sizes.columns.tolist())\n",
        "print(\"🧾 First few rows:\")\n",
        "print(df_sizes.head())\n",
        "\n",
        "# Only show stats if width & height are present\n",
        "if {'width', 'height'}.issubset(df_sizes.columns):\n",
        "    print(df_sizes[['width', 'height']].describe())\n",
        "else:\n",
        "    print(\"❌ 'width' and 'height' columns not found in df_sizes.\")\n"
      ]
    },
    {
      "cell_type": "code",
      "execution_count": 1,
      "metadata": {
        "colab": {
          "base_uri": "https://localhost:8080/"
        },
        "id": "_p1D398ad1D7",
        "outputId": "6c75f624-8f31-4522-bb0a-e0ed3073be4d"
      },
      "outputs": [
        {
          "output_type": "stream",
          "name": "stdout",
          "text": [
            "Requirement already satisfied: tensorflow==2.18.0 in /usr/local/lib/python3.11/dist-packages (2.18.0)\n",
            "Requirement already satisfied: numpy==1.26.4 in /usr/local/lib/python3.11/dist-packages (1.26.4)\n",
            "Requirement already satisfied: absl-py>=1.0.0 in /usr/local/lib/python3.11/dist-packages (from tensorflow==2.18.0) (1.4.0)\n",
            "Requirement already satisfied: astunparse>=1.6.0 in /usr/local/lib/python3.11/dist-packages (from tensorflow==2.18.0) (1.6.3)\n",
            "Requirement already satisfied: flatbuffers>=24.3.25 in /usr/local/lib/python3.11/dist-packages (from tensorflow==2.18.0) (25.2.10)\n",
            "Requirement already satisfied: gast!=0.5.0,!=0.5.1,!=0.5.2,>=0.2.1 in /usr/local/lib/python3.11/dist-packages (from tensorflow==2.18.0) (0.4.0)\n",
            "Requirement already satisfied: google-pasta>=0.1.1 in /usr/local/lib/python3.11/dist-packages (from tensorflow==2.18.0) (0.2.0)\n",
            "Requirement already satisfied: libclang>=13.0.0 in /usr/local/lib/python3.11/dist-packages (from tensorflow==2.18.0) (18.1.1)\n",
            "Requirement already satisfied: opt-einsum>=2.3.2 in /usr/local/lib/python3.11/dist-packages (from tensorflow==2.18.0) (3.4.0)\n",
            "Requirement already satisfied: packaging in /usr/local/lib/python3.11/dist-packages (from tensorflow==2.18.0) (25.0)\n",
            "Requirement already satisfied: protobuf!=4.21.0,!=4.21.1,!=4.21.2,!=4.21.3,!=4.21.4,!=4.21.5,<6.0.0dev,>=3.20.3 in /usr/local/lib/python3.11/dist-packages (from tensorflow==2.18.0) (4.25.8)\n",
            "Requirement already satisfied: requests<3,>=2.21.0 in /usr/local/lib/python3.11/dist-packages (from tensorflow==2.18.0) (2.32.3)\n",
            "Requirement already satisfied: setuptools in /usr/local/lib/python3.11/dist-packages (from tensorflow==2.18.0) (75.2.0)\n",
            "Requirement already satisfied: six>=1.12.0 in /usr/local/lib/python3.11/dist-packages (from tensorflow==2.18.0) (1.17.0)\n",
            "Requirement already satisfied: termcolor>=1.1.0 in /usr/local/lib/python3.11/dist-packages (from tensorflow==2.18.0) (3.1.0)\n",
            "Requirement already satisfied: typing-extensions>=3.6.6 in /usr/local/lib/python3.11/dist-packages (from tensorflow==2.18.0) (4.14.1)\n",
            "Requirement already satisfied: wrapt>=1.11.0 in /usr/local/lib/python3.11/dist-packages (from tensorflow==2.18.0) (1.14.1)\n",
            "Requirement already satisfied: grpcio<2.0,>=1.24.3 in /usr/local/lib/python3.11/dist-packages (from tensorflow==2.18.0) (1.73.1)\n",
            "Requirement already satisfied: tensorboard<2.19,>=2.18 in /usr/local/lib/python3.11/dist-packages (from tensorflow==2.18.0) (2.18.0)\n",
            "Requirement already satisfied: keras>=3.5.0 in /usr/local/lib/python3.11/dist-packages (from tensorflow==2.18.0) (3.10.0)\n",
            "Requirement already satisfied: h5py>=3.11.0 in /usr/local/lib/python3.11/dist-packages (from tensorflow==2.18.0) (3.14.0)\n",
            "Requirement already satisfied: ml-dtypes<0.5.0,>=0.4.0 in /usr/local/lib/python3.11/dist-packages (from tensorflow==2.18.0) (0.4.1)\n",
            "Requirement already satisfied: tensorflow-io-gcs-filesystem>=0.23.1 in /usr/local/lib/python3.11/dist-packages (from tensorflow==2.18.0) (0.37.1)\n",
            "Requirement already satisfied: wheel<1.0,>=0.23.0 in /usr/local/lib/python3.11/dist-packages (from astunparse>=1.6.0->tensorflow==2.18.0) (0.45.1)\n",
            "Requirement already satisfied: rich in /usr/local/lib/python3.11/dist-packages (from keras>=3.5.0->tensorflow==2.18.0) (13.9.4)\n",
            "Requirement already satisfied: namex in /usr/local/lib/python3.11/dist-packages (from keras>=3.5.0->tensorflow==2.18.0) (0.1.0)\n",
            "Requirement already satisfied: optree in /usr/local/lib/python3.11/dist-packages (from keras>=3.5.0->tensorflow==2.18.0) (0.16.0)\n",
            "Requirement already satisfied: charset-normalizer<4,>=2 in /usr/local/lib/python3.11/dist-packages (from requests<3,>=2.21.0->tensorflow==2.18.0) (3.4.2)\n",
            "Requirement already satisfied: idna<4,>=2.5 in /usr/local/lib/python3.11/dist-packages (from requests<3,>=2.21.0->tensorflow==2.18.0) (3.10)\n",
            "Requirement already satisfied: urllib3<3,>=1.21.1 in /usr/local/lib/python3.11/dist-packages (from requests<3,>=2.21.0->tensorflow==2.18.0) (2.5.0)\n",
            "Requirement already satisfied: certifi>=2017.4.17 in /usr/local/lib/python3.11/dist-packages (from requests<3,>=2.21.0->tensorflow==2.18.0) (2025.7.14)\n",
            "Requirement already satisfied: markdown>=2.6.8 in /usr/local/lib/python3.11/dist-packages (from tensorboard<2.19,>=2.18->tensorflow==2.18.0) (3.8.2)\n",
            "Requirement already satisfied: tensorboard-data-server<0.8.0,>=0.7.0 in /usr/local/lib/python3.11/dist-packages (from tensorboard<2.19,>=2.18->tensorflow==2.18.0) (0.7.2)\n",
            "Requirement already satisfied: werkzeug>=1.0.1 in /usr/local/lib/python3.11/dist-packages (from tensorboard<2.19,>=2.18->tensorflow==2.18.0) (3.1.3)\n",
            "Requirement already satisfied: MarkupSafe>=2.1.1 in /usr/local/lib/python3.11/dist-packages (from werkzeug>=1.0.1->tensorboard<2.19,>=2.18->tensorflow==2.18.0) (3.0.2)\n",
            "Requirement already satisfied: markdown-it-py>=2.2.0 in /usr/local/lib/python3.11/dist-packages (from rich->keras>=3.5.0->tensorflow==2.18.0) (3.0.0)\n",
            "Requirement already satisfied: pygments<3.0.0,>=2.13.0 in /usr/local/lib/python3.11/dist-packages (from rich->keras>=3.5.0->tensorflow==2.18.0) (2.19.2)\n",
            "Requirement already satisfied: mdurl~=0.1 in /usr/local/lib/python3.11/dist-packages (from markdown-it-py>=2.2.0->rich->keras>=3.5.0->tensorflow==2.18.0) (0.1.2)\n"
          ]
        }
      ],
      "source": [
        "!pip install tensorflow==2.18.0 numpy==1.26.4"
      ]
    },
    {
      "cell_type": "code",
      "source": [
        "import os\n",
        "os.kill(os.getpid(), 9)  # This restarts the Colab runtime"
      ],
      "metadata": {
        "id": "ibsZ44g9jb1m"
      },
      "execution_count": null,
      "outputs": []
    },
    {
      "cell_type": "code",
      "source": [
        "!ls Tree-species-Identification"
      ],
      "metadata": {
        "colab": {
          "base_uri": "https://localhost:8080/"
        },
        "id": "rBE-rsnUkBlq",
        "outputId": "5a97209b-e6a4-4a97-a6d3-721703b2c5a0"
      },
      "execution_count": 4,
      "outputs": [
        {
          "output_type": "stream",
          "name": "stdout",
          "text": [
            "5M_trees\tREADME.md\t\t tree_CNN.ipynb\n",
            "5M_trees.ipynb\tstreamlit_integrated.py  Tree_Species_Dataset\n"
          ]
        }
      ]
    },
    {
      "cell_type": "code",
      "execution_count": 8,
      "metadata": {
        "colab": {
          "base_uri": "https://localhost:8080/"
        },
        "id": "M1JuW9evPnm3",
        "outputId": "435e4ec2-d843-4bee-b7c7-45449c5848c7"
      },
      "outputs": [
        {
          "output_type": "stream",
          "name": "stdout",
          "text": [
            "Found 1280 images belonging to 30 classes.\n",
            "Found 320 images belonging to 30 classes.\n"
          ]
        }
      ],
      "source": [
        "import os\n",
        "import tensorflow as tf\n",
        "from tensorflow.keras.preprocessing.image import ImageDataGenerator\n",
        "\n",
        "# Updated path\n",
        "repo_path = \"Tree-species-Identification/Tree_Species_Dataset\"\n",
        "\n",
        "# Check path\n",
        "if not os.path.exists(repo_path):\n",
        "    raise FileNotFoundError(f\"❌ Dataset not found at: {repo_path}\")\n",
        "\n",
        "# Parameters\n",
        "IMG_HEIGHT = 224\n",
        "IMG_WIDTH = 224\n",
        "BATCH_SIZE = 32\n",
        "\n",
        "# Data generator\n",
        "datagen = ImageDataGenerator(\n",
        "    rescale=1./255,\n",
        "    validation_split=0.2,\n",
        "    rotation_range=20,\n",
        "    zoom_range=0.2,\n",
        "    shear_range=0.2,\n",
        "    horizontal_flip=True\n",
        ")\n",
        "\n",
        "# Training and validation generators\n",
        "train_gen = datagen.flow_from_directory(\n",
        "    repo_path,\n",
        "    target_size=(IMG_HEIGHT, IMG_WIDTH),\n",
        "    batch_size=BATCH_SIZE,\n",
        "    class_mode='categorical',\n",
        "    subset='training'\n",
        ")\n",
        "\n",
        "val_gen = datagen.flow_from_directory(\n",
        "    repo_path,\n",
        "    target_size=(IMG_HEIGHT, IMG_WIDTH),\n",
        "    batch_size=BATCH_SIZE,\n",
        "    class_mode='categorical',\n",
        "    subset='validation'\n",
        ")"
      ]
    },
    {
      "cell_type": "code",
      "execution_count": 9,
      "metadata": {
        "colab": {
          "base_uri": "https://localhost:8080/",
          "height": 379
        },
        "id": "JOjjbp6PhU6Z",
        "outputId": "815e6f5f-5484-432a-e889-0491d4aa0299"
      },
      "outputs": [
        {
          "output_type": "stream",
          "name": "stdout",
          "text": [
            "Downloading data from https://storage.googleapis.com/keras-applications/efficientnetb0_notop.h5\n",
            "\u001b[1m16705208/16705208\u001b[0m \u001b[32m━━━━━━━━━━━━━━━━━━━━\u001b[0m\u001b[37m\u001b[0m \u001b[1m1s\u001b[0m 0us/step\n"
          ]
        },
        {
          "output_type": "display_data",
          "data": {
            "text/plain": [
              "\u001b[1mModel: \"sequential\"\u001b[0m\n"
            ],
            "text/html": [
              "<pre style=\"white-space:pre;overflow-x:auto;line-height:normal;font-family:Menlo,'DejaVu Sans Mono',consolas,'Courier New',monospace\"><span style=\"font-weight: bold\">Model: \"sequential\"</span>\n",
              "</pre>\n"
            ]
          },
          "metadata": {}
        },
        {
          "output_type": "display_data",
          "data": {
            "text/plain": [
              "┏━━━━━━━━━━━━━━━━━━━━━━━━━━━━━━━━━┳━━━━━━━━━━━━━━━━━━━━━━━━┳━━━━━━━━━━━━━━━┓\n",
              "┃\u001b[1m \u001b[0m\u001b[1mLayer (type)                   \u001b[0m\u001b[1m \u001b[0m┃\u001b[1m \u001b[0m\u001b[1mOutput Shape          \u001b[0m\u001b[1m \u001b[0m┃\u001b[1m \u001b[0m\u001b[1m      Param #\u001b[0m\u001b[1m \u001b[0m┃\n",
              "┡━━━━━━━━━━━━━━━━━━━━━━━━━━━━━━━━━╇━━━━━━━━━━━━━━━━━━━━━━━━╇━━━━━━━━━━━━━━━┩\n",
              "│ efficientnetb0 (\u001b[38;5;33mFunctional\u001b[0m)     │ (\u001b[38;5;45mNone\u001b[0m, \u001b[38;5;34m7\u001b[0m, \u001b[38;5;34m7\u001b[0m, \u001b[38;5;34m1280\u001b[0m)     │     \u001b[38;5;34m4,049,571\u001b[0m │\n",
              "├─────────────────────────────────┼────────────────────────┼───────────────┤\n",
              "│ global_average_pooling2d        │ (\u001b[38;5;45mNone\u001b[0m, \u001b[38;5;34m1280\u001b[0m)           │             \u001b[38;5;34m0\u001b[0m │\n",
              "│ (\u001b[38;5;33mGlobalAveragePooling2D\u001b[0m)        │                        │               │\n",
              "├─────────────────────────────────┼────────────────────────┼───────────────┤\n",
              "│ dropout (\u001b[38;5;33mDropout\u001b[0m)               │ (\u001b[38;5;45mNone\u001b[0m, \u001b[38;5;34m1280\u001b[0m)           │             \u001b[38;5;34m0\u001b[0m │\n",
              "├─────────────────────────────────┼────────────────────────┼───────────────┤\n",
              "│ dense (\u001b[38;5;33mDense\u001b[0m)                   │ (\u001b[38;5;45mNone\u001b[0m, \u001b[38;5;34m128\u001b[0m)            │       \u001b[38;5;34m163,968\u001b[0m │\n",
              "├─────────────────────────────────┼────────────────────────┼───────────────┤\n",
              "│ dropout_1 (\u001b[38;5;33mDropout\u001b[0m)             │ (\u001b[38;5;45mNone\u001b[0m, \u001b[38;5;34m128\u001b[0m)            │             \u001b[38;5;34m0\u001b[0m │\n",
              "├─────────────────────────────────┼────────────────────────┼───────────────┤\n",
              "│ dense_1 (\u001b[38;5;33mDense\u001b[0m)                 │ (\u001b[38;5;45mNone\u001b[0m, \u001b[38;5;34m30\u001b[0m)             │         \u001b[38;5;34m3,870\u001b[0m │\n",
              "└─────────────────────────────────┴────────────────────────┴───────────────┘\n"
            ],
            "text/html": [
              "<pre style=\"white-space:pre;overflow-x:auto;line-height:normal;font-family:Menlo,'DejaVu Sans Mono',consolas,'Courier New',monospace\">┏━━━━━━━━━━━━━━━━━━━━━━━━━━━━━━━━━┳━━━━━━━━━━━━━━━━━━━━━━━━┳━━━━━━━━━━━━━━━┓\n",
              "┃<span style=\"font-weight: bold\"> Layer (type)                    </span>┃<span style=\"font-weight: bold\"> Output Shape           </span>┃<span style=\"font-weight: bold\">       Param # </span>┃\n",
              "┡━━━━━━━━━━━━━━━━━━━━━━━━━━━━━━━━━╇━━━━━━━━━━━━━━━━━━━━━━━━╇━━━━━━━━━━━━━━━┩\n",
              "│ efficientnetb0 (<span style=\"color: #0087ff; text-decoration-color: #0087ff\">Functional</span>)     │ (<span style=\"color: #00d7ff; text-decoration-color: #00d7ff\">None</span>, <span style=\"color: #00af00; text-decoration-color: #00af00\">7</span>, <span style=\"color: #00af00; text-decoration-color: #00af00\">7</span>, <span style=\"color: #00af00; text-decoration-color: #00af00\">1280</span>)     │     <span style=\"color: #00af00; text-decoration-color: #00af00\">4,049,571</span> │\n",
              "├─────────────────────────────────┼────────────────────────┼───────────────┤\n",
              "│ global_average_pooling2d        │ (<span style=\"color: #00d7ff; text-decoration-color: #00d7ff\">None</span>, <span style=\"color: #00af00; text-decoration-color: #00af00\">1280</span>)           │             <span style=\"color: #00af00; text-decoration-color: #00af00\">0</span> │\n",
              "│ (<span style=\"color: #0087ff; text-decoration-color: #0087ff\">GlobalAveragePooling2D</span>)        │                        │               │\n",
              "├─────────────────────────────────┼────────────────────────┼───────────────┤\n",
              "│ dropout (<span style=\"color: #0087ff; text-decoration-color: #0087ff\">Dropout</span>)               │ (<span style=\"color: #00d7ff; text-decoration-color: #00d7ff\">None</span>, <span style=\"color: #00af00; text-decoration-color: #00af00\">1280</span>)           │             <span style=\"color: #00af00; text-decoration-color: #00af00\">0</span> │\n",
              "├─────────────────────────────────┼────────────────────────┼───────────────┤\n",
              "│ dense (<span style=\"color: #0087ff; text-decoration-color: #0087ff\">Dense</span>)                   │ (<span style=\"color: #00d7ff; text-decoration-color: #00d7ff\">None</span>, <span style=\"color: #00af00; text-decoration-color: #00af00\">128</span>)            │       <span style=\"color: #00af00; text-decoration-color: #00af00\">163,968</span> │\n",
              "├─────────────────────────────────┼────────────────────────┼───────────────┤\n",
              "│ dropout_1 (<span style=\"color: #0087ff; text-decoration-color: #0087ff\">Dropout</span>)             │ (<span style=\"color: #00d7ff; text-decoration-color: #00d7ff\">None</span>, <span style=\"color: #00af00; text-decoration-color: #00af00\">128</span>)            │             <span style=\"color: #00af00; text-decoration-color: #00af00\">0</span> │\n",
              "├─────────────────────────────────┼────────────────────────┼───────────────┤\n",
              "│ dense_1 (<span style=\"color: #0087ff; text-decoration-color: #0087ff\">Dense</span>)                 │ (<span style=\"color: #00d7ff; text-decoration-color: #00d7ff\">None</span>, <span style=\"color: #00af00; text-decoration-color: #00af00\">30</span>)             │         <span style=\"color: #00af00; text-decoration-color: #00af00\">3,870</span> │\n",
              "└─────────────────────────────────┴────────────────────────┴───────────────┘\n",
              "</pre>\n"
            ]
          },
          "metadata": {}
        },
        {
          "output_type": "display_data",
          "data": {
            "text/plain": [
              "\u001b[1m Total params: \u001b[0m\u001b[38;5;34m4,217,409\u001b[0m (16.09 MB)\n"
            ],
            "text/html": [
              "<pre style=\"white-space:pre;overflow-x:auto;line-height:normal;font-family:Menlo,'DejaVu Sans Mono',consolas,'Courier New',monospace\"><span style=\"font-weight: bold\"> Total params: </span><span style=\"color: #00af00; text-decoration-color: #00af00\">4,217,409</span> (16.09 MB)\n",
              "</pre>\n"
            ]
          },
          "metadata": {}
        },
        {
          "output_type": "display_data",
          "data": {
            "text/plain": [
              "\u001b[1m Trainable params: \u001b[0m\u001b[38;5;34m167,838\u001b[0m (655.62 KB)\n"
            ],
            "text/html": [
              "<pre style=\"white-space:pre;overflow-x:auto;line-height:normal;font-family:Menlo,'DejaVu Sans Mono',consolas,'Courier New',monospace\"><span style=\"font-weight: bold\"> Trainable params: </span><span style=\"color: #00af00; text-decoration-color: #00af00\">167,838</span> (655.62 KB)\n",
              "</pre>\n"
            ]
          },
          "metadata": {}
        },
        {
          "output_type": "display_data",
          "data": {
            "text/plain": [
              "\u001b[1m Non-trainable params: \u001b[0m\u001b[38;5;34m4,049,571\u001b[0m (15.45 MB)\n"
            ],
            "text/html": [
              "<pre style=\"white-space:pre;overflow-x:auto;line-height:normal;font-family:Menlo,'DejaVu Sans Mono',consolas,'Courier New',monospace\"><span style=\"font-weight: bold\"> Non-trainable params: </span><span style=\"color: #00af00; text-decoration-color: #00af00\">4,049,571</span> (15.45 MB)\n",
              "</pre>\n"
            ]
          },
          "metadata": {}
        }
      ],
      "source": [
        "from tensorflow.keras.applications import EfficientNetB0\n",
        "from tensorflow.keras.models import Sequential\n",
        "from tensorflow.keras.layers import Dense, Dropout, GlobalAveragePooling2D\n",
        "from tensorflow.keras.optimizers import Adam\n",
        "\n",
        "base_model = EfficientNetB0(include_top=False, input_shape=(IMG_HEIGHT, IMG_WIDTH, 3), weights='imagenet')\n",
        "base_model.trainable = False  # Freeze base model\n",
        "\n",
        "model = Sequential([\n",
        "    base_model,\n",
        "    GlobalAveragePooling2D(),\n",
        "    Dropout(0.3),\n",
        "    Dense(128, activation='relu'),\n",
        "    Dropout(0.3),\n",
        "    Dense(train_gen.num_classes, activation='softmax')\n",
        "])\n",
        "\n",
        "model.compile(optimizer=Adam(learning_rate=0.001),\n",
        "              loss='categorical_crossentropy',\n",
        "              metrics=['accuracy'])\n",
        "\n",
        "model.summary()\n"
      ]
    },
    {
      "cell_type": "code",
      "execution_count": 10,
      "metadata": {
        "colab": {
          "base_uri": "https://localhost:8080/"
        },
        "id": "dWtkFa4BiIBz",
        "outputId": "e01d62b8-e5c4-47e3-a8b8-a27aa98c9f29"
      },
      "outputs": [
        {
          "metadata": {
            "tags": null
          },
          "name": "stderr",
          "output_type": "stream",
          "text": [
            "/usr/local/lib/python3.11/dist-packages/keras/src/trainers/data_adapters/py_dataset_adapter.py:121: UserWarning: Your `PyDataset` class should call `super().__init__(**kwargs)` in its constructor. `**kwargs` can include `workers`, `use_multiprocessing`, `max_queue_size`. Do not pass these arguments to `fit()`, as they will be ignored.\n",
            "  self._warn_if_super_not_called()\n"
          ]
        },
        {
          "output_type": "stream",
          "name": "stdout",
          "text": [
            "Epoch 1/10\n",
            "\u001b[1m40/40\u001b[0m \u001b[32m━━━━━━━━━━━━━━━━━━━━\u001b[0m\u001b[37m\u001b[0m \u001b[1m160s\u001b[0m 4s/step - accuracy: 0.0822 - loss: 3.4512 - val_accuracy: 0.0938 - val_loss: 3.3825\n",
            "Epoch 2/10\n",
            "\u001b[1m40/40\u001b[0m \u001b[32m━━━━━━━━━━━━━━━━━━━━\u001b[0m\u001b[37m\u001b[0m \u001b[1m154s\u001b[0m 4s/step - accuracy: 0.0827 - loss: 3.3990 - val_accuracy: 0.0938 - val_loss: 3.3793\n",
            "Epoch 3/10\n",
            "\u001b[1m40/40\u001b[0m \u001b[32m━━━━━━━━━━━━━━━━━━━━\u001b[0m\u001b[37m\u001b[0m \u001b[1m155s\u001b[0m 4s/step - accuracy: 0.0843 - loss: 3.4041 - val_accuracy: 0.0938 - val_loss: 3.3738\n",
            "Epoch 4/10\n",
            "\u001b[1m40/40\u001b[0m \u001b[32m━━━━━━━━━━━━━━━━━━━━\u001b[0m\u001b[37m\u001b[0m \u001b[1m155s\u001b[0m 4s/step - accuracy: 0.0937 - loss: 3.3871 - val_accuracy: 0.0938 - val_loss: 3.3683\n",
            "Epoch 5/10\n",
            "\u001b[1m40/40\u001b[0m \u001b[32m━━━━━━━━━━━━━━━━━━━━\u001b[0m\u001b[37m\u001b[0m \u001b[1m187s\u001b[0m 3s/step - accuracy: 0.0943 - loss: 3.3819 - val_accuracy: 0.0938 - val_loss: 3.3786\n",
            "Epoch 6/10\n",
            "\u001b[1m40/40\u001b[0m \u001b[32m━━━━━━━━━━━━━━━━━━━━\u001b[0m\u001b[37m\u001b[0m \u001b[1m153s\u001b[0m 4s/step - accuracy: 0.0839 - loss: 3.3876 - val_accuracy: 0.0938 - val_loss: 3.3670\n",
            "Epoch 7/10\n",
            "\u001b[1m40/40\u001b[0m \u001b[32m━━━━━━━━━━━━━━━━━━━━\u001b[0m\u001b[37m\u001b[0m \u001b[1m191s\u001b[0m 4s/step - accuracy: 0.0951 - loss: 3.3744 - val_accuracy: 0.0938 - val_loss: 3.3694\n",
            "Epoch 8/10\n",
            "\u001b[1m40/40\u001b[0m \u001b[32m━━━━━━━━━━━━━━━━━━━━\u001b[0m\u001b[37m\u001b[0m \u001b[1m141s\u001b[0m 4s/step - accuracy: 0.0836 - loss: 3.3855 - val_accuracy: 0.0938 - val_loss: 3.3692\n",
            "Epoch 9/10\n",
            "\u001b[1m40/40\u001b[0m \u001b[32m━━━━━━━━━━━━━━━━━━━━\u001b[0m\u001b[37m\u001b[0m \u001b[1m141s\u001b[0m 4s/step - accuracy: 0.1021 - loss: 3.3735 - val_accuracy: 0.0938 - val_loss: 3.3729\n",
            "Epoch 10/10\n",
            "\u001b[1m40/40\u001b[0m \u001b[32m━━━━━━━━━━━━━━━━━━━━\u001b[0m\u001b[37m\u001b[0m \u001b[1m151s\u001b[0m 4s/step - accuracy: 0.1024 - loss: 3.3705 - val_accuracy: 0.0938 - val_loss: 3.3753\n"
          ]
        }
      ],
      "source": [
        "EPOCHS = 10\n",
        "\n",
        "history = model.fit(\n",
        "    train_gen,\n",
        "    validation_data=val_gen,\n",
        "    epochs=EPOCHS\n",
        ")\n"
      ]
    },
    {
      "cell_type": "code",
      "execution_count": 11,
      "metadata": {
        "colab": {
          "base_uri": "https://localhost:8080/",
          "height": 489
        },
        "id": "3zg_d2TriOCu",
        "outputId": "04378400-b42f-436c-ec1f-40bb68db35a4"
      },
      "outputs": [
        {
          "output_type": "display_data",
          "data": {
            "text/plain": [
              "<Figure size 640x480 with 1 Axes>"
            ],
            "image/png": "[encoded data removed]"
          },
          "metadata": {}
        },
        {
          "output_type": "stream",
          "name": "stderr",
          "text": [
            "WARNING:absl:You are saving your model as an HDF5 file via `model.save()` or `keras.saving.save_model(model)`. This file format is considered legacy. We recommend using instead the native Keras format, e.g. `model.save('my_model.keras')` or `keras.saving.save_model(model, 'my_model.keras')`. \n"
          ]
        }
      ],
      "source": [
        "# Plot accuracy/loss curves\n",
        "import matplotlib.pyplot as plt\n",
        "\n",
        "plt.plot(history.history['accuracy'], label='Train Accuracy')\n",
        "plt.plot(history.history['val_accuracy'], label='Val Accuracy')\n",
        "plt.legend()\n",
        "plt.title(\"Accuracy Over Epochs\")\n",
        "plt.show()\n",
        "\n",
        "# Save model\n",
        "model.save(\"tree_species_model.h5\")\n"
      ]
    },
    {
      "cell_type": "code",
      "execution_count": 12,
      "metadata": {
        "colab": {
          "base_uri": "https://localhost:8080/"
        },
        "id": "fls9ZFbNnOPe",
        "outputId": "527f1798-596b-4e4b-aad0-a754b3cf26f1"
      },
      "outputs": [
        {
          "metadata": {
            "tags": null
          },
          "name": "stdout",
          "output_type": "stream",
          "text": [
            "Found 1280 images belonging to 30 classes.\n",
            "Found 320 images belonging to 30 classes.\n"
          ]
        },
        {
          "metadata": {
            "tags": null
          },
          "name": "stderr",
          "output_type": "stream",
          "text": [
            "/usr/local/lib/python3.11/dist-packages/keras/src/layers/convolutional/base_conv.py:113: UserWarning: Do not pass an `input_shape`/`input_dim` argument to a layer. When using Sequential models, prefer using an `Input(shape)` object as the first layer in the model instead.\n",
            "  super().__init__(activity_regularizer=activity_regularizer, **kwargs)\n"
          ]
        },
        {
          "output_type": "stream",
          "name": "stdout",
          "text": [
            "Epoch 1/10\n",
            "\u001b[1m40/40\u001b[0m \u001b[32m━━━━━━━━━━━━━━━━━━━━\u001b[0m\u001b[37m\u001b[0m \u001b[1m185s\u001b[0m 5s/step - accuracy: 0.0668 - loss: 3.9866 - val_accuracy: 0.1250 - val_loss: 3.1758\n",
            "Epoch 2/10\n",
            "\u001b[1m40/40\u001b[0m \u001b[32m━━━━━━━━━━━━━━━━━━━━\u001b[0m\u001b[37m\u001b[0m \u001b[1m179s\u001b[0m 4s/step - accuracy: 0.1128 - loss: 3.2028 - val_accuracy: 0.1344 - val_loss: 3.0486\n",
            "Epoch 3/10\n",
            "\u001b[1m40/40\u001b[0m \u001b[32m━━━━━━━━━━━━━━━━━━━━\u001b[0m\u001b[37m\u001b[0m \u001b[1m188s\u001b[0m 5s/step - accuracy: 0.1328 - loss: 3.0500 - val_accuracy: 0.1688 - val_loss: 2.9709\n",
            "Epoch 4/10\n",
            "\u001b[1m40/40\u001b[0m \u001b[32m━━━━━━━━━━━━━━━━━━━━\u001b[0m\u001b[37m\u001b[0m \u001b[1m184s\u001b[0m 5s/step - accuracy: 0.1711 - loss: 2.9360 - val_accuracy: 0.1906 - val_loss: 2.8737\n",
            "Epoch 5/10\n",
            "\u001b[1m40/40\u001b[0m \u001b[32m━━━━━━━━━━━━━━━━━━━━\u001b[0m\u001b[37m\u001b[0m \u001b[1m183s\u001b[0m 5s/step - accuracy: 0.1991 - loss: 2.8129 - val_accuracy: 0.2062 - val_loss: 2.8016\n",
            "Epoch 6/10\n",
            "\u001b[1m40/40\u001b[0m \u001b[32m━━━━━━━━━━━━━━━━━━━━\u001b[0m\u001b[37m\u001b[0m \u001b[1m178s\u001b[0m 4s/step - accuracy: 0.2094 - loss: 2.7808 - val_accuracy: 0.2438 - val_loss: 2.6392\n",
            "Epoch 7/10\n",
            "\u001b[1m40/40\u001b[0m \u001b[32m━━━━━━━━━━━━━━━━━━━━\u001b[0m\u001b[37m\u001b[0m \u001b[1m189s\u001b[0m 5s/step - accuracy: 0.2244 - loss: 2.6921 - val_accuracy: 0.2438 - val_loss: 2.6913\n",
            "Epoch 8/10\n",
            "\u001b[1m40/40\u001b[0m \u001b[32m━━━━━━━━━━━━━━━━━━━━\u001b[0m\u001b[37m\u001b[0m \u001b[1m184s\u001b[0m 5s/step - accuracy: 0.2467 - loss: 2.5949 - val_accuracy: 0.2844 - val_loss: 2.5882\n",
            "Epoch 9/10\n",
            "\u001b[1m40/40\u001b[0m \u001b[32m━━━━━━━━━━━━━━━━━━━━\u001b[0m\u001b[37m\u001b[0m \u001b[1m178s\u001b[0m 4s/step - accuracy: 0.2583 - loss: 2.5381 - val_accuracy: 0.3094 - val_loss: 2.4880\n",
            "Epoch 10/10\n",
            "\u001b[1m40/40\u001b[0m \u001b[32m━━━━━━━━━━━━━━━━━━━━\u001b[0m\u001b[37m\u001b[0m \u001b[1m187s\u001b[0m 5s/step - accuracy: 0.2861 - loss: 2.4622 - val_accuracy: 0.2875 - val_loss: 2.5329\n"
          ]
        },
        {
          "output_type": "stream",
          "name": "stderr",
          "text": [
            "WARNING:absl:You are saving your model as an HDF5 file via `model.save()` or `keras.saving.save_model(model)`. This file format is considered legacy. We recommend using instead the native Keras format, e.g. `model.save('my_model.keras')` or `keras.saving.save_model(model, 'my_model.keras')`. \n"
          ]
        },
        {
          "output_type": "stream",
          "name": "stdout",
          "text": [
            "✅ Basic CNN model saved as 'basic_cnn_tree_species.h5'\n"
          ]
        }
      ],
      "source": [
        "import tensorflow as tf\n",
        "from tensorflow.keras.models import Sequential\n",
        "from tensorflow.keras.layers import Conv2D, MaxPooling2D, Flatten, Dense, Dropout\n",
        "from tensorflow.keras.preprocessing.image import ImageDataGenerator\n",
        "\n",
        "# Define image properties\n",
        "IMG_HEIGHT = 224\n",
        "IMG_WIDTH = 224\n",
        "BATCH_SIZE = 32\n",
        "\n",
        "# Data generators\n",
        "datagen = ImageDataGenerator(\n",
        "    rescale=1./255,\n",
        "    validation_split=0.2,\n",
        "    rotation_range=20,\n",
        "    zoom_range=0.2,\n",
        "    horizontal_flip=True\n",
        ")\n",
        "\n",
        "train_generator = datagen.flow_from_directory(\n",
        "    repo_path,\n",
        "    target_size=(IMG_HEIGHT, IMG_WIDTH),\n",
        "    batch_size=BATCH_SIZE,\n",
        "    class_mode='categorical',\n",
        "    subset='training'\n",
        ")\n",
        "\n",
        "val_generator = datagen.flow_from_directory(\n",
        "    repo_path,\n",
        "    target_size=(IMG_HEIGHT, IMG_WIDTH),\n",
        "    batch_size=BATCH_SIZE,\n",
        "    class_mode='categorical',\n",
        "    subset='validation'\n",
        ")\n",
        "\n",
        "# Number of output classes\n",
        "num_classes = train_generator.num_classes\n",
        "\n",
        "# Build a basic CNN model\n",
        "model_cnn = Sequential([\n",
        "    Conv2D(32, (3, 3), activation='relu', input_shape=(IMG_HEIGHT, IMG_WIDTH, 3)),\n",
        "    MaxPooling2D(pool_size=(2, 2)),\n",
        "\n",
        "    Conv2D(64, (3, 3), activation='relu'),\n",
        "    MaxPooling2D(pool_size=(2, 2)),\n",
        "\n",
        "    Conv2D(128, (3, 3), activation='relu'),\n",
        "    MaxPooling2D(pool_size=(2, 2)),\n",
        "\n",
        "    Flatten(),\n",
        "    Dense(256, activation='relu'),\n",
        "    Dropout(0.5),\n",
        "    Dense(num_classes, activation='softmax')\n",
        "])\n",
        "\n",
        "model_cnn.compile(\n",
        "    loss='categorical_crossentropy',\n",
        "    optimizer='adam',\n",
        "    metrics=['accuracy']\n",
        ")\n",
        "\n",
        "# Train the model\n",
        "EPOCHS = 10\n",
        "history_cnn = model_cnn.fit(\n",
        "    train_generator,\n",
        "    epochs=EPOCHS,\n",
        "    validation_data=val_generator\n",
        ")\n",
        "\n",
        "# Save the model\n",
        "model_cnn.save('basic_cnn_tree_species.h5')\n",
        "print(\"✅ Basic CNN model saved as 'basic_cnn_tree_species.h5'\")\n"
      ]
    },
    {
      "cell_type": "code",
      "execution_count": 13,
      "metadata": {
        "colab": {
          "base_uri": "https://localhost:8080/",
          "height": 472
        },
        "id": "yubJR58antIK",
        "outputId": "3d148cf9-306f-4c93-ca0a-d7e6fa5731a8"
      },
      "outputs": [
        {
          "output_type": "display_data",
          "data": {
            "text/plain": [
              "<Figure size 640x480 with 1 Axes>"
            ],
            "image/png": "[encoded data removed]"
          },
          "metadata": {}
        }
      ],
      "source": [
        "import matplotlib.pyplot as plt\n",
        "\n",
        "plt.plot(history_cnn.history['accuracy'], label='Train Accuracy')\n",
        "plt.plot(history_cnn.history['val_accuracy'], label='Validation Accuracy')\n",
        "plt.title(\"Basic CNN Accuracy\")\n",
        "plt.xlabel(\"Epoch\")\n",
        "plt.ylabel(\"Accuracy\")\n",
        "plt.legend()\n",
        "plt.show()\n"
      ]
    },
    {
      "cell_type": "code",
      "execution_count": null,
      "metadata": {
        "colab": {
          "base_uri": "https://localhost:8080/"
        },
        "id": "9Y-tnHhWs4yK",
        "outputId": "f3074d22-658a-4999-de14-d5fa937c1b47"
      },
      "outputs": [
        {
          "output_type": "stream",
          "name": "stdout",
          "text": [
            "Epoch 1/25\n",
            "\u001b[1m40/40\u001b[0m \u001b[32m━━━━━━━━━━━━━━━━━━━━\u001b[0m\u001b[37m\u001b[0m \u001b[1m276s\u001b[0m 7s/step - accuracy: 0.0728 - loss: 5.1654 - val_accuracy: 0.0312 - val_loss: 9.2902\n",
            "Epoch 2/25\n",
            "\u001b[1m40/40\u001b[0m \u001b[32m━━━━━━━━━━━━━━━━━━━━\u001b[0m\u001b[37m\u001b[0m \u001b[1m266s\u001b[0m 7s/step - accuracy: 0.1245 - loss: 3.2323 - val_accuracy: 0.0312 - val_loss: 17.1774\n",
            "Epoch 3/25\n",
            "\u001b[1m40/40\u001b[0m \u001b[32m━━━━━━━━━━━━━━━━━━━━\u001b[0m\u001b[37m\u001b[0m \u001b[1m265s\u001b[0m 7s/step - accuracy: 0.1363 - loss: 3.0956 - val_accuracy: 0.0312 - val_loss: 20.2766\n",
            "Epoch 4/25\n",
            "\u001b[1m40/40\u001b[0m \u001b[32m━━━━━━━━━━━━━━━━━━━━\u001b[0m\u001b[37m\u001b[0m \u001b[1m264s\u001b[0m 7s/step - accuracy: 0.1597 - loss: 3.0362 - val_accuracy: 0.0312 - val_loss: 20.7513\n",
            "Epoch 5/25\n",
            "\u001b[1m40/40\u001b[0m \u001b[32m━━━━━━━━━━━━━━━━━━━━\u001b[0m\u001b[37m\u001b[0m \u001b[1m263s\u001b[0m 7s/step - accuracy: 0.1666 - loss: 2.9893 - val_accuracy: 0.0375 - val_loss: 16.4107\n",
            "Epoch 6/25\n",
            "\u001b[1m40/40\u001b[0m \u001b[32m━━━━━━━━━━━━━━━━━━━━\u001b[0m\u001b[37m\u001b[0m \u001b[1m322s\u001b[0m 7s/step - accuracy: 0.1844 - loss: 2.9497 - val_accuracy: 0.0312 - val_loss: 18.4721\n",
            "Epoch 7/25\n",
            "\u001b[1m40/40\u001b[0m \u001b[32m━━━━━━━━━━━━━━━━━━━━\u001b[0m\u001b[37m\u001b[0m \u001b[1m262s\u001b[0m 7s/step - accuracy: 0.1698 - loss: 2.9532 - val_accuracy: 0.0344 - val_loss: 19.2108\n",
            "Epoch 8/25\n",
            "\u001b[1m40/40\u001b[0m \u001b[32m━━━━━━━━━━━━━━━━━━━━\u001b[0m\u001b[37m\u001b[0m \u001b[1m262s\u001b[0m 7s/step - accuracy: 0.1967 - loss: 2.8653 - val_accuracy: 0.0531 - val_loss: 13.2875\n",
            "Epoch 9/25\n",
            "\u001b[1m40/40\u001b[0m \u001b[32m━━━━━━━━━━━━━━━━━━━━\u001b[0m\u001b[37m\u001b[0m \u001b[1m266s\u001b[0m 7s/step - accuracy: 0.2214 - loss: 2.8615 - val_accuracy: 0.0906 - val_loss: 9.2472\n",
            "Epoch 10/25\n",
            "\u001b[1m40/40\u001b[0m \u001b[32m━━━━━━━━━━━━━━━━━━━━\u001b[0m\u001b[37m\u001b[0m \u001b[1m263s\u001b[0m 7s/step - accuracy: 0.2012 - loss: 2.9297 - val_accuracy: 0.1594 - val_loss: 8.1436\n",
            "Epoch 11/25\n",
            "\u001b[1m40/40\u001b[0m \u001b[32m━━━━━━━━━━━━━━━━━━━━\u001b[0m\u001b[37m\u001b[0m \u001b[1m264s\u001b[0m 7s/step - accuracy: 0.2408 - loss: 2.8086 - val_accuracy: 0.1688 - val_loss: 5.1647\n",
            "Epoch 12/25\n",
            "\u001b[1m40/40\u001b[0m \u001b[32m━━━━━━━━━━━━━━━━━━━━\u001b[0m\u001b[37m\u001b[0m \u001b[1m263s\u001b[0m 7s/step - accuracy: 0.2335 - loss: 2.7774 - val_accuracy: 0.2156 - val_loss: 3.9506\n",
            "Epoch 13/25\n",
            "\u001b[1m40/40\u001b[0m \u001b[32m━━━━━━━━━━━━━━━━━━━━\u001b[0m\u001b[37m\u001b[0m \u001b[1m263s\u001b[0m 7s/step - accuracy: 0.2350 - loss: 2.7726 - val_accuracy: 0.2344 - val_loss: 3.6871\n",
            "Epoch 14/25\n",
            "\u001b[1m40/40\u001b[0m \u001b[32m━━━━━━━━━━━━━━━━━━━━\u001b[0m\u001b[37m\u001b[0m \u001b[1m261s\u001b[0m 7s/step - accuracy: 0.2576 - loss: 2.6921 - val_accuracy: 0.2406 - val_loss: 3.5285\n",
            "Epoch 15/25\n",
            "\u001b[1m40/40\u001b[0m \u001b[32m━━━━━━━━━━━━━━━━━━━━\u001b[0m\u001b[37m\u001b[0m \u001b[1m265s\u001b[0m 7s/step - accuracy: 0.2561 - loss: 2.6808 - val_accuracy: 0.2281 - val_loss: 3.1259\n",
            "Epoch 16/25\n",
            "\u001b[1m40/40\u001b[0m \u001b[32m━━━━━━━━━━━━━━━━━━━━\u001b[0m\u001b[37m\u001b[0m \u001b[1m267s\u001b[0m 7s/step - accuracy: 0.2808 - loss: 2.6085 - val_accuracy: 0.2062 - val_loss: 2.9774\n",
            "Epoch 17/25\n",
            "\u001b[1m40/40\u001b[0m \u001b[32m━━━━━━━━━━━━━━━━━━━━\u001b[0m\u001b[37m\u001b[0m \u001b[1m264s\u001b[0m 7s/step - accuracy: 0.2977 - loss: 2.5618 - val_accuracy: 0.2344 - val_loss: 3.0274\n",
            "Epoch 18/25\n",
            "\u001b[1m40/40\u001b[0m \u001b[32m━━━━━━━━━━━━━━━━━━━━\u001b[0m\u001b[37m\u001b[0m \u001b[1m267s\u001b[0m 7s/step - accuracy: 0.3166 - loss: 2.5658 - val_accuracy: 0.2750 - val_loss: 2.8752\n",
            "Epoch 19/25\n",
            "\u001b[1m40/40\u001b[0m \u001b[32m━━━━━━━━━━━━━━━━━━━━\u001b[0m\u001b[37m\u001b[0m \u001b[1m262s\u001b[0m 7s/step - accuracy: 0.2977 - loss: 2.5360 - val_accuracy: 0.2438 - val_loss: 2.8869\n",
            "Epoch 20/25\n",
            "\u001b[1m40/40\u001b[0m \u001b[32m━━━━━━━━━━━━━━━━━━━━\u001b[0m\u001b[37m\u001b[0m \u001b[1m262s\u001b[0m 7s/step - accuracy: 0.3102 - loss: 2.5165 - val_accuracy: 0.2594 - val_loss: 3.1638\n",
            "Epoch 21/25\n",
            "\u001b[1m40/40\u001b[0m \u001b[32m━━━━━━━━━━━━━━━━━━━━\u001b[0m\u001b[37m\u001b[0m \u001b[1m262s\u001b[0m 7s/step - accuracy: 0.3431 - loss: 2.3976 - val_accuracy: 0.2406 - val_loss: 2.9741\n",
            "Epoch 22/25\n",
            "\u001b[1m40/40\u001b[0m \u001b[32m━━━━━━━━━━━━━━━━━━━━\u001b[0m\u001b[37m\u001b[0m \u001b[1m262s\u001b[0m 7s/step - accuracy: 0.3332 - loss: 2.4139 - val_accuracy: 0.3094 - val_loss: 2.7035\n",
            "Epoch 23/25\n",
            "\u001b[1m40/40\u001b[0m \u001b[32m━━━━━━━━━━━━━━━━━━━━\u001b[0m\u001b[37m\u001b[0m \u001b[1m262s\u001b[0m 7s/step - accuracy: 0.3295 - loss: 2.4157 - val_accuracy: 0.3031 - val_loss: 2.7833\n",
            "Epoch 24/25\n",
            "\u001b[1m40/40\u001b[0m \u001b[32m━━━━━━━━━━━━━━━━━━━━\u001b[0m\u001b[37m\u001b[0m \u001b[1m262s\u001b[0m 7s/step - accuracy: 0.3390 - loss: 2.3725 - val_accuracy: 0.2969 - val_loss: 2.6852\n",
            "Epoch 25/25\n",
            "\u001b[1m25/40\u001b[0m \u001b[32m━━━━━━━━━━━━\u001b[0m\u001b[37m━━━━━━━━\u001b[0m \u001b[1m1:33\u001b[0m 6s/step - accuracy: 0.3664 - loss: 2.2636"
          ]
        }
      ],
      "source": [
        "from tensorflow.keras.models import Sequential\n",
        "from tensorflow.keras.layers import Conv2D, MaxPooling2D, Flatten, Dense, Dropout, BatchNormalization\n",
        "from tensorflow.keras.optimizers import Adam\n",
        "\n",
        "model = Sequential([\n",
        "    Conv2D(32, (3, 3), activation='relu', input_shape=(224, 224, 3)),\n",
        "    BatchNormalization(),\n",
        "    MaxPooling2D(2, 2),\n",
        "\n",
        "    Conv2D(64, (3, 3), activation='relu'),\n",
        "    BatchNormalization(),\n",
        "    MaxPooling2D(2, 2),\n",
        "\n",
        "    Conv2D(128, (3, 3), activation='relu'),\n",
        "    BatchNormalization(),\n",
        "    MaxPooling2D(2, 2),\n",
        "\n",
        "    Flatten(),\n",
        "    Dense(256, activation='relu'),\n",
        "    Dropout(0.5),\n",
        "    Dense(30, activation='softmax')  # For 30 classes\n",
        "])\n",
        "\n",
        "model.compile(optimizer=Adam(learning_rate=1e-4), loss='categorical_crossentropy', metrics=['accuracy'])\n",
        "\n",
        "model.fit(train_generator, validation_data=val_generator, epochs=25)\n",
        "\n",
        "model.save(\"improved_cnn_model.h5\")\n"
      ]
    }
  ],
  "metadata": {
    "colab": {
      "provenance": []
    },
    "kernelspec": {
      "display_name": "Python 3 (ipykernel)",
      "language": "python",
      "name": "python3"
    },
    "language_info": {
      "codemirror_mode": {
        "name": "ipython",
        "version": 3
      },
      "file_extension": ".py",
      "mimetype": "text/x-python",
      "name": "python",
      "nbconvert_exporter": "python",
      "pygments_lexer": "ipython3",
      "version": "3.13.5"
    }
  },
  "nbformat": 4,
  "nbformat_minor": 0
}